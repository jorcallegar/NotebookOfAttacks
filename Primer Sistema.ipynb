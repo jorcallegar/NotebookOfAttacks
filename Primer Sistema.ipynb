{
 "cells": [
  {
   "cell_type": "markdown",
   "metadata": {},
   "source": [
    "### Análisis de una aplicación web"
   ]
  },
  {
   "cell_type": "code",
   "execution_count": 7,
   "metadata": {},
   "outputs": [],
   "source": [
    "import os\n",
    "import subprocess  as subprocess"
   ]
  },
  {
   "cell_type": "markdown",
   "metadata": {},
   "source": [
    "Leyendo documentación la mejor forma para poder usar la shell a través de python es gestionando yo mismo los procesos utlizando la clase subprocess"
   ]
  },
  {
   "cell_type": "markdown",
   "metadata": {},
   "source": [
    "<h3>Ejecutamos ls -l</h3>"
   ]
  },
  {
   "cell_type": "code",
   "execution_count": 9,
   "metadata": {},
   "outputs": [
    {
     "name": "stdout",
     "output_type": "stream",
     "text": [
      "b'Primer Sistema.ipynb\\nREADME.md\\n'\n"
     ]
    }
   ],
   "source": [
    "p = subprocess.Popen('ls',\n",
    "                     shell=True,\n",
    "                     stdout=subprocess.PIPE, \n",
    "                     stderr=subprocess.PIPE)\n",
    "out, err = p.communicate()\n",
    "print(out)"
   ]
  },
  {
   "cell_type": "markdown",
   "metadata": {},
   "source": [
    "<h3>Utilizamos nmap simple utilizando una web donde es legal</h3>"
   ]
  },
  {
   "cell_type": "code",
   "execution_count": 21,
   "metadata": {},
   "outputs": [
    {
     "name": "stdout",
     "output_type": "stream",
     "text": [
      "b'Starting Nmap 7.80 ( https://nmap.org ) at 2020-03-08 03:17 CET\\nNmap scan report for scanme.nmap.org (45.33.32.156)\\nHost is up (0.20s latency).\\nNot shown: 992 closed ports\\nPORT      STATE    SERVICE\\n22/tcp    open     ssh\\n25/tcp    filtered smtp\\n80/tcp    open     http\\n443/tcp   open     https\\n5060/tcp  open     sip\\n8080/tcp  open     http-proxy\\n9929/tcp  open     nping-echo\\n31337/tcp open     Elite\\n\\nNmap done: 1 IP address (1 host up) scanned in 68.93 seconds\\n'\n"
     ]
    }
   ],
   "source": [
    "p = subprocess.Popen('nmap scanme.nmap.org',\n",
    "                     shell=True,\n",
    "                     stdout=subprocess.PIPE, \n",
    "                     stderr=subprocess.PIPE)\n",
    "out, err = p.communicate()\n",
    "print(out)"
   ]
  },
  {
   "cell_type": "code",
   "execution_count": null,
   "metadata": {},
   "outputs": [],
   "source": []
  },
  {
   "cell_type": "code",
   "execution_count": null,
   "metadata": {},
   "outputs": [],
   "source": []
  }
 ],
 "metadata": {
  "kernelspec": {
   "display_name": "Python 3",
   "language": "python",
   "name": "python3"
  },
  "language_info": {
   "codemirror_mode": {
    "name": "ipython",
    "version": 3
   },
   "file_extension": ".py",
   "mimetype": "text/x-python",
   "name": "python",
   "nbconvert_exporter": "python",
   "pygments_lexer": "ipython3",
   "version": "3.7.6"
  }
 },
 "nbformat": 4,
 "nbformat_minor": 4
}
