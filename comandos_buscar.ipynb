{
 "cells": [
  {
   "cell_type": "markdown",
   "metadata": {},
   "source": [
    "<h1>Comandos útiles de Linux para buscar cosas </h1>"
   ]
  },
  {
   "cell_type": "markdown",
   "metadata": {},
   "source": [
    "<h2>Find</h2>"
   ]
  },
  {
   "cell_type": "markdown",
   "metadata": {},
   "source": [
    "find / -type f -user www-data\n",
    "\n",
    "El primer argumento es la carpeta donde queremos buscar.\n",
    "-type: d es para buscar directorios y f archivos.\n"
   ]
  },
  {
   "cell_type": "code",
   "execution_count": 2,
   "metadata": {},
   "outputs": [],
   "source": [
    "import os\n",
    "import subprocess  as subprocess"
   ]
  },
  {
   "cell_type": "markdown",
   "metadata": {},
   "source": [
    "<h1>cat /etc/*-release</h1>"
   ]
  },
  {
   "cell_type": "markdown",
   "metadata": {},
   "source": [
    "Nos muestra el sistema operativo y la versión."
   ]
  },
  {
   "cell_type": "code",
   "execution_count": 2,
   "metadata": {},
   "outputs": [
    {
     "name": "stdout",
     "output_type": "stream",
     "text": [
      "b'PRETTY_NAME=\"Kali GNU/Linux Rolling\"\\nNAME=\"Kali GNU/Linux\"\\nID=kali\\nVERSION=\"2020.1\"\\nVERSION_ID=\"2020.1\"\\nVERSION_CODENAME=\"kali-rolling\"\\nID_LIKE=debian\\nANSI_COLOR=\"1;31\"\\nHOME_URL=\"https://www.kali.org/\"\\nSUPPORT_URL=\"https://forums.kali.org/\"\\nBUG_REPORT_URL=\"https://bugs.kali.org/\"\\n'\n"
     ]
    }
   ],
   "source": [
    "p = subprocess.Popen('cat /etc/*-release',\n",
    "                     shell=True,\n",
    "                     stdout=subprocess.PIPE, \n",
    "                     stderr=subprocess.PIPE)\n",
    "out, err = p.communicate()\n",
    "print(out)"
   ]
  },
  {
   "cell_type": "markdown",
   "metadata": {},
   "source": [
    "<h1>pwd</h1>"
   ]
  },
  {
   "cell_type": "markdown",
   "metadata": {},
   "source": [
    "Este comando nos sirve para saber la posición actual"
   ]
  },
  {
   "cell_type": "code",
   "execution_count": 3,
   "metadata": {},
   "outputs": [
    {
     "name": "stdout",
     "output_type": "stream",
     "text": [
      "b'/root/Escritorio/NotebookOfAttacks\\n'\n"
     ]
    }
   ],
   "source": [
    "p = subprocess.Popen('pwd',\n",
    "                     shell=True,\n",
    "                     stdout=subprocess.PIPE, \n",
    "                     stderr=subprocess.PIPE)\n",
    "out, err = p.communicate()\n",
    "print(out)"
   ]
  },
  {
   "cell_type": "markdown",
   "metadata": {},
   "source": [
    "Aqui vemos que me ha devuelto mi dirección actual."
   ]
  }
 ],
 "metadata": {
  "kernelspec": {
   "display_name": "Python 3",
   "language": "python",
   "name": "python3"
  },
  "language_info": {
   "codemirror_mode": {
    "name": "ipython",
    "version": 3
   },
   "file_extension": ".py",
   "mimetype": "text/x-python",
   "name": "python",
   "nbconvert_exporter": "python",
   "pygments_lexer": "ipython3",
   "version": "3.7.6"
  }
 },
 "nbformat": 4,
 "nbformat_minor": 4
}
