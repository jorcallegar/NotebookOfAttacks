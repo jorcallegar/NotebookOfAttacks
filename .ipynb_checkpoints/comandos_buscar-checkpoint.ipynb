{
 "cells": [
  {
   "cell_type": "markdown",
   "metadata": {},
   "source": [
    "<h1>Comandos útiles de Linux para buscar cosas </h1>"
   ]
  },
  {
   "cell_type": "markdown",
   "metadata": {},
   "source": [
    "<h2>Find</h2>"
   ]
  },
  {
   "cell_type": "markdown",
   "metadata": {},
   "source": [
    "find / -type f -user www-data\n",
    "\n",
    "El primer argumento es la carpeta donde queremos buscar.\n",
    "-type: d es para buscar directorios y f archivos.\n"
   ]
  },
  {
   "cell_type": "code",
   "execution_count": 1,
   "metadata": {},
   "outputs": [],
   "source": [
    "import os\n",
    "import subprocess  as subprocess"
   ]
  },
  {
   "cell_type": "markdown",
   "metadata": {},
   "source": [
    "<h1>cat /etc/*-release</h1>"
   ]
  },
  {
   "cell_type": "markdown",
   "metadata": {},
   "source": [
    "Nos muestra el sistema operativo y la versión."
   ]
  },
  {
   "cell_type": "code",
   "execution_count": 2,
   "metadata": {},
   "outputs": [
    {
     "name": "stdout",
     "output_type": "stream",
     "text": [
      "b'PRETTY_NAME=\"Kali GNU/Linux Rolling\"\\nNAME=\"Kali GNU/Linux\"\\nID=kali\\nVERSION=\"2020.1\"\\nVERSION_ID=\"2020.1\"\\nVERSION_CODENAME=\"kali-rolling\"\\nID_LIKE=debian\\nANSI_COLOR=\"1;31\"\\nHOME_URL=\"https://www.kali.org/\"\\nSUPPORT_URL=\"https://forums.kali.org/\"\\nBUG_REPORT_URL=\"https://bugs.kali.org/\"\\n'\n"
     ]
    }
   ],
   "source": [
    "p = subprocess.Popen('cat /etc/*-release',\n",
    "                     shell=True,\n",
    "                     stdout=subprocess.PIPE, \n",
    "                     stderr=subprocess.PIPE)\n",
    "out, err = p.communicate()\n",
    "print(out)"
   ]
  },
  {
   "cell_type": "markdown",
   "metadata": {},
   "source": [
    "<h1>pwd</h1>"
   ]
  },
  {
   "cell_type": "markdown",
   "metadata": {},
   "source": [
    "Este comando nos sirve para saber la posición actual"
   ]
  },
  {
   "cell_type": "code",
   "execution_count": 3,
   "metadata": {},
   "outputs": [
    {
     "name": "stdout",
     "output_type": "stream",
     "text": [
      "b'/root/Escritorio/NotebookOfAttacks\\n'\n"
     ]
    }
   ],
   "source": [
    "p = subprocess.Popen('pwd',\n",
    "                     shell=True,\n",
    "                     stdout=subprocess.PIPE, \n",
    "                     stderr=subprocess.PIPE)\n",
    "out, err = p.communicate()\n",
    "print(out)"
   ]
  },
  {
   "cell_type": "markdown",
   "metadata": {},
   "source": [
    "Aqui vemos que me ha devuelto mi dirección actual."
   ]
  },
  {
   "cell_type": "markdown",
   "metadata": {},
   "source": [
    "<h1>Puertos abiertos de una maquina </h1>\n",
    "<br>\n",
    "<h1>netstat -tulpn</h1>"
   ]
  },
  {
   "cell_type": "code",
   "execution_count": 3,
   "metadata": {},
   "outputs": [
    {
     "name": "stdout",
     "output_type": "stream",
     "text": [
      "b'Active Internet connections (only servers)\\nProto Recv-Q Send-Q Local Address           Foreign Address         State       PID/Program name    \\ntcp        0      0 127.0.0.1:39053         0.0.0.0:*               LISTEN      6226/python         \\ntcp        0      0 127.0.0.1:33329         0.0.0.0:*               LISTEN      6241/python         \\ntcp        0      0 127.0.0.1:43061         0.0.0.0:*               LISTEN      6241/python         \\ntcp        0      0 127.0.0.1:43381         0.0.0.0:*               LISTEN      6226/python         \\ntcp        0      0 127.0.0.1:39287         0.0.0.0:*               LISTEN      6226/python         \\ntcp        0      0 127.0.0.1:8888          0.0.0.0:*               LISTEN      2377/python         \\ntcp        0      0 127.0.0.1:40825         0.0.0.0:*               LISTEN      6241/python         \\ntcp        0      0 127.0.0.1:39865         0.0.0.0:*               LISTEN      6226/python         \\ntcp        0      0 127.0.0.1:35067         0.0.0.0:*               LISTEN      6241/python         \\ntcp        0      0 127.0.0.1:60513         0.0.0.0:*               LISTEN      6241/python         \\ntcp        0      0 127.0.0.1:60033         0.0.0.0:*               LISTEN      6226/python         \\ntcp        0      0 127.0.0.1:60967         0.0.0.0:*               LISTEN      6241/python         \\ntcp        0      0 127.0.0.1:57769         0.0.0.0:*               LISTEN      6226/python         \\ntcp6       0      0 ::1:8888                :::*                    LISTEN      2377/python         \\nudp        0      0 0.0.0.0:53407           0.0.0.0:*                           2106/openvpn        \\nudp      896      0 224.0.0.251:5353        0.0.0.0:*                           2146/chrome --type= \\nudp        0      0 224.0.0.251:5353        0.0.0.0:*                           2115/chrome --no-sa \\nudp        0      0 224.0.0.251:5353        0.0.0.0:*                           2115/chrome --no-sa \\nudp        0      0 224.0.0.251:5353        0.0.0.0:*                           2146/chrome --type= \\nudp        0      0 224.0.0.251:5353        0.0.0.0:*                           2146/chrome --type= \\n'\n"
     ]
    }
   ],
   "source": [
    "p = subprocess.Popen('netstat -tulpn',\n",
    "                     shell=True,\n",
    "                     stdout=subprocess.PIPE, \n",
    "                     stderr=subprocess.PIPE)\n",
    "out, err = p.communicate()\n",
    "print(out)"
   ]
  },
  {
   "cell_type": "markdown",
   "metadata": {},
   "source": [
    "Como podemos ver tengo unos cuantos."
   ]
  },
  {
   "cell_type": "markdown",
   "metadata": {},
   "source": [
    "<h1>curl</h1>\n",
    "    <br>\n",
    "    Mirar si algun enlace es correcto"
   ]
  },
  {
   "cell_type": "code",
   "execution_count": 2,
   "metadata": {},
   "outputs": [
    {
     "name": "stdout",
     "output_type": "stream",
     "text": [
      "b'<HTML><HEAD><meta http-equiv=\"content-type\" content=\"text/html;charset=utf-8\">\\n<TITLE>301 Moved</TITLE></HEAD><BODY>\\n<H1>301 Moved</H1>\\nThe document has moved\\n<A HREF=\"http://www.google.es/\">here</A>.\\r\\n</BODY></HTML>\\r\\n'\n"
     ]
    }
   ],
   "source": [
    "p = subprocess.Popen('curl google.es',\n",
    "                     shell=True,\n",
    "                     stdout=subprocess.PIPE, \n",
    "                     stderr=subprocess.PIPE)\n",
    "out, err = p.communicate()\n",
    "print(out)"
   ]
  },
  {
   "cell_type": "code",
   "execution_count": 5,
   "metadata": {},
   "outputs": [
    {
     "name": "stdout",
     "output_type": "stream",
     "text": [
      "b''\n"
     ]
    }
   ],
   "source": [
    "#Si queremos cambiar de puerto hacemos:\n",
    "p = subprocess.Popen('curl google.es:443',\n",
    "                     shell=True,\n",
    "                     stdout=subprocess.PIPE, \n",
    "                     stderr=subprocess.PIPE)\n",
    "out, err = p.communicate()\n",
    "print(out)"
   ]
  }
 ],
 "metadata": {
  "kernelspec": {
   "display_name": "Python 3",
   "language": "python",
   "name": "python3"
  },
  "language_info": {
   "codemirror_mode": {
    "name": "ipython",
    "version": 3
   },
   "file_extension": ".py",
   "mimetype": "text/x-python",
   "name": "python",
   "nbconvert_exporter": "python",
   "pygments_lexer": "ipython3",
   "version": "3.7.6"
  }
 },
 "nbformat": 4,
 "nbformat_minor": 4
}
